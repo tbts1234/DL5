{
 "cells": [
  {
   "cell_type": "code",
   "execution_count": 169,
   "id": "08f9bbf4",
   "metadata": {},
   "outputs": [],
   "source": [
    "import os\n",
    "os.environ[\"PATH\"] += os.pathsep + \"/usr/bin/dot\""
   ]
  },
  {
   "cell_type": "code",
   "execution_count": 170,
   "id": "af398265",
   "metadata": {},
   "outputs": [],
   "source": [
    "from keras.models import Sequential\n",
    "from keras.layers import Embedding, Dense, Flatten\n",
    "from keras.preprocessing import text\n",
    "from keras.utils import to_categorical\n",
    "from keras.preprocessing import sequence\n",
    "# from keras.utils import np_utils\n",
    "import numpy as np\n",
    "\n"
   ]
  },
  {
   "cell_type": "code",
   "execution_count": 171,
   "id": "ca83d8e9",
   "metadata": {},
   "outputs": [],
   "source": [
    "file_path='C:/Users/ASUS/Desktop/corona.txt'\n",
    "# data=open('.\\corona.txt','r')"
   ]
  },
  {
   "cell_type": "code",
   "execution_count": 172,
   "id": "3be253a6",
   "metadata": {},
   "outputs": [],
   "source": [
    "with open(file_path, 'r') as file:\n",
    "    data = file.read()"
   ]
  },
  {
   "cell_type": "code",
   "execution_count": 173,
   "id": "ff1910f8",
   "metadata": {
    "scrolled": true
   },
   "outputs": [
    {
     "name": "stdout",
     "output_type": "stream",
     "text": [
      "The speed of transmission is an important point of difference between the two viruses. Influenza has a shorter median incubation period (the time from infection to appearance of symptoms) and a shorter serial interval (the time between successive cases) than COVID-19 virus. The serial interval for COVID-19 virus is estimated to be 5-6 days, while for influenza virus, the serial interval is 3 days. This means that influenza can spread faster than COVID-19. \n",
      "\n",
      "Further, transmission in the first 3-5 days of illness, or potentially pre-symptomatic transmission â€“transmission of the virus before the appearance of symptoms â€“ is a major driver of transmission for influenza. In contrast, while we are learning that there are people who can shed COVID-19 virus 24-48 hours prior to symptom onset, at present, this does not appear to be a major driver of transmission. \n",
      "\n",
      "The reproductive number â€“ the number of secondary infections generated from one infected individual â€“ is understood to be between 2 and 2.5 for COVID-19 virus, higher than for influenza. However, estimates for both COVID-19 and influenza viruses are very context and time-specific, making direct comparisons more difficult.  \n"
     ]
    }
   ],
   "source": [
    "print(data)"
   ]
  },
  {
   "cell_type": "code",
   "execution_count": 174,
   "id": "c1c3dad7",
   "metadata": {},
   "outputs": [],
   "source": [
    "tokenizer = text.Tokenizer()\n",
    "tokenizer.fit_on_texts(data)\n",
    "word2id = tokenizer.word_index"
   ]
  },
  {
   "cell_type": "code",
   "execution_count": 175,
   "id": "cc045685",
   "metadata": {},
   "outputs": [],
   "source": [
    "word2id['PAD'] = 0\n",
    "id2word = {v:k for k, v in word2id.items()}\n",
    "wids = [[word2id[w] for w in text.text_to_word_sequence(doc)] for doc in data]\n",
    "\n",
    "\n"
   ]
  },
  {
   "cell_type": "code",
   "execution_count": 176,
   "id": "75cc2ba4",
   "metadata": {},
   "outputs": [],
   "source": [
    "vocab_size = len(word2id)\n",
    "embed_size = 100\n",
    "window_size = 2 # context window size"
   ]
  },
  {
   "cell_type": "code",
   "execution_count": 177,
   "id": "d70315be",
   "metadata": {},
   "outputs": [
    {
     "name": "stdout",
     "output_type": "stream",
     "text": [
      "Vocabulary Size: 37\n",
      "Vocabulary Sample: [('e', 1), ('i', 2), ('t', 3), ('s', 4), ('r', 5), ('n', 6), ('o', 7), ('a', 8), ('f', 9), ('d', 10)]\n"
     ]
    }
   ],
   "source": [
    "print('Vocabulary Size:', vocab_size)\n",
    "print('Vocabulary Sample:', list(word2id.items())[:10])"
   ]
  },
  {
   "cell_type": "code",
   "execution_count": 178,
   "id": "e3c23f94",
   "metadata": {},
   "outputs": [],
   "source": [
    "def generate_context_word_pairs(corpus, window_size, vocab_size):\n",
    "    context_length = window_size*2\n",
    "    for words in corpus:\n",
    "        sentence_length = len(words)\n",
    "        for index, word in enumerate(words):\n",
    "            context_words = []\n",
    "            label_word   = []            \n",
    "            start = index - window_size\n",
    "            end = index + window_size + 1\n",
    "            \n",
    "            context_words.append([words[i] \n",
    "                                 for i in range(start, end) \n",
    "                                 if 0 <= i < sentence_length \n",
    "                                 and i != index])\n",
    "            label_word.append(word)\n",
    "\n",
    "            x = sequence.pad_sequences(context_words,\n",
    "            maxlen=context_length)\n",
    "            y =to_categorical(label_word, vocab_size)\n",
    "            yield (x, y)\n",
    "            \n",
    "            \n",
    "# Test this out for some samples\n",
    "i = 0\n",
    "for x, y in generate_context_word_pairs(corpus=wids, \n",
    "window_size=window_size, vocab_size=vocab_size):\n",
    "    if 0 not in x[0]:\n",
    "        print('Context (X):',[id2word[w] for w in x[0]],'-> Target (Y):',id2word[np.argwhere(y[0])[0][0]])\n",
    "    \n",
    "        if i == 10:\n",
    "            break\n",
    "        i += 1"
   ]
  },
  {
   "cell_type": "code",
   "execution_count": 179,
   "id": "62619f45",
   "metadata": {
    "scrolled": false
   },
   "outputs": [
    {
     "name": "stdout",
     "output_type": "stream",
     "text": [
      "Model: \"sequential_13\"\n",
      "_________________________________________________________________\n",
      " Layer (type)                Output Shape              Param #   \n",
      "=================================================================\n",
      " embedding_13 (Embedding)    (None, 4, 100)            3700      \n",
      "                                                                 \n",
      " lambda_13 (Lambda)          (None, 100)               0         \n",
      "                                                                 \n",
      " dense_13 (Dense)            (None, 37)                3737      \n",
      "                                                                 \n",
      "=================================================================\n",
      "Total params: 7437 (29.05 KB)\n",
      "Trainable params: 7437 (29.05 KB)\n",
      "Non-trainable params: 0 (0.00 Byte)\n",
      "_________________________________________________________________\n",
      "None\n"
     ]
    }
   ],
   "source": [
    "import keras.backend as K\n",
    "from keras.models import Sequential\n",
    "from keras.layers import Dense, Embedding, Lambda\n",
    "\n",
    "# build CBOW architecture\n",
    "cbow = Sequential()\n",
    "cbow.add(Embedding(input_dim=vocab_size, output_dim=embed_size, input_length=window_size*2))\n",
    "cbow.add(Lambda(lambda x: K.mean(x, axis=1), output_shape=(embed_size,)))\n",
    "cbow.add(Dense(vocab_size, activation='softmax'))\n",
    "cbow.compile(loss='categorical_crossentropy', optimizer='rmsprop')\n",
    "\n",
    "# view model summary\n",
    "print(cbow.summary())\n",
    "\n",
    "# visualize model structure\n",
    "from IPython.display import SVG\n",
    "# from tensorflow.keras.utils.vis_utils import model_to_dot\n",
    "# Assuming your model is named 'model'\n",
    "from tensorflow.keras.utils import plot_model\n",
    "\n",
    "# plot_model(model, to_file='model_plot.png', show_shapes=True, show_layer_names=True)\n",
    "\n",
    "\n"
   ]
  },
  {
   "cell_type": "code",
   "execution_count": 180,
   "id": "ca9f4f90",
   "metadata": {},
   "outputs": [],
   "source": [
    "\n",
    "    for epoch in range(1, 6):\n",
    "        loss = 0.\n",
    "        i = 0\n",
    "        for x, y in generate_context_word_pairs(corpus=wids, window_size=window_size, vocab_size=vocab_size):\n",
    "            i += 1\n",
    "            loss += cbow.train_on_batch(x, y)\n",
    "            if i % 100000 == 0:\n",
    "                print('Processed {} (context, word) pairs'.format(i))\n",
    "    "
   ]
  },
  {
   "cell_type": "code",
   "execution_count": 181,
   "id": "f8a743f6",
   "metadata": {
    "scrolled": true
   },
   "outputs": [
    {
     "name": "stdout",
     "output_type": "stream",
     "text": [
      "(36, 100)\n"
     ]
    },
    {
     "data": {
      "text/html": [
       "<div>\n",
       "<style scoped>\n",
       "    .dataframe tbody tr th:only-of-type {\n",
       "        vertical-align: middle;\n",
       "    }\n",
       "\n",
       "    .dataframe tbody tr th {\n",
       "        vertical-align: top;\n",
       "    }\n",
       "\n",
       "    .dataframe thead th {\n",
       "        text-align: right;\n",
       "    }\n",
       "</style>\n",
       "<table border=\"1\" class=\"dataframe\">\n",
       "  <thead>\n",
       "    <tr style=\"text-align: right;\">\n",
       "      <th></th>\n",
       "      <th>0</th>\n",
       "      <th>1</th>\n",
       "      <th>2</th>\n",
       "      <th>3</th>\n",
       "      <th>4</th>\n",
       "      <th>5</th>\n",
       "      <th>6</th>\n",
       "      <th>7</th>\n",
       "      <th>8</th>\n",
       "      <th>9</th>\n",
       "      <th>...</th>\n",
       "      <th>90</th>\n",
       "      <th>91</th>\n",
       "      <th>92</th>\n",
       "      <th>93</th>\n",
       "      <th>94</th>\n",
       "      <th>95</th>\n",
       "      <th>96</th>\n",
       "      <th>97</th>\n",
       "      <th>98</th>\n",
       "      <th>99</th>\n",
       "    </tr>\n",
       "  </thead>\n",
       "  <tbody>\n",
       "    <tr>\n",
       "      <th>i</th>\n",
       "      <td>0.021014</td>\n",
       "      <td>-0.029548</td>\n",
       "      <td>-0.019853</td>\n",
       "      <td>0.035607</td>\n",
       "      <td>-0.046591</td>\n",
       "      <td>-0.021184</td>\n",
       "      <td>0.034601</td>\n",
       "      <td>0.044587</td>\n",
       "      <td>0.020664</td>\n",
       "      <td>-0.032072</td>\n",
       "      <td>...</td>\n",
       "      <td>0.049776</td>\n",
       "      <td>0.048546</td>\n",
       "      <td>0.041240</td>\n",
       "      <td>-0.036389</td>\n",
       "      <td>-0.040024</td>\n",
       "      <td>0.022411</td>\n",
       "      <td>-0.023450</td>\n",
       "      <td>0.033564</td>\n",
       "      <td>-0.047312</td>\n",
       "      <td>0.009969</td>\n",
       "    </tr>\n",
       "    <tr>\n",
       "      <th>t</th>\n",
       "      <td>0.035466</td>\n",
       "      <td>-0.026246</td>\n",
       "      <td>0.005481</td>\n",
       "      <td>0.021203</td>\n",
       "      <td>-0.019324</td>\n",
       "      <td>0.025819</td>\n",
       "      <td>0.023532</td>\n",
       "      <td>-0.022167</td>\n",
       "      <td>-0.017751</td>\n",
       "      <td>-0.028721</td>\n",
       "      <td>...</td>\n",
       "      <td>0.042374</td>\n",
       "      <td>0.049647</td>\n",
       "      <td>-0.022741</td>\n",
       "      <td>-0.028646</td>\n",
       "      <td>-0.043170</td>\n",
       "      <td>0.020829</td>\n",
       "      <td>-0.000013</td>\n",
       "      <td>0.018079</td>\n",
       "      <td>-0.044271</td>\n",
       "      <td>0.004267</td>\n",
       "    </tr>\n",
       "    <tr>\n",
       "      <th>s</th>\n",
       "      <td>0.021251</td>\n",
       "      <td>-0.022198</td>\n",
       "      <td>-0.023825</td>\n",
       "      <td>-0.000849</td>\n",
       "      <td>0.003993</td>\n",
       "      <td>-0.026476</td>\n",
       "      <td>0.047260</td>\n",
       "      <td>-0.018484</td>\n",
       "      <td>0.022855</td>\n",
       "      <td>-0.041076</td>\n",
       "      <td>...</td>\n",
       "      <td>-0.023941</td>\n",
       "      <td>0.021548</td>\n",
       "      <td>-0.013312</td>\n",
       "      <td>0.027140</td>\n",
       "      <td>0.004451</td>\n",
       "      <td>0.033044</td>\n",
       "      <td>-0.021514</td>\n",
       "      <td>0.004945</td>\n",
       "      <td>0.019152</td>\n",
       "      <td>-0.040694</td>\n",
       "    </tr>\n",
       "    <tr>\n",
       "      <th>r</th>\n",
       "      <td>0.012779</td>\n",
       "      <td>0.006544</td>\n",
       "      <td>-0.029650</td>\n",
       "      <td>0.017467</td>\n",
       "      <td>0.027381</td>\n",
       "      <td>-0.002858</td>\n",
       "      <td>-0.029681</td>\n",
       "      <td>-0.010581</td>\n",
       "      <td>-0.014890</td>\n",
       "      <td>0.046050</td>\n",
       "      <td>...</td>\n",
       "      <td>0.002921</td>\n",
       "      <td>-0.041814</td>\n",
       "      <td>-0.043920</td>\n",
       "      <td>0.012217</td>\n",
       "      <td>0.019987</td>\n",
       "      <td>-0.004679</td>\n",
       "      <td>0.001593</td>\n",
       "      <td>0.035177</td>\n",
       "      <td>0.046905</td>\n",
       "      <td>0.049222</td>\n",
       "    </tr>\n",
       "    <tr>\n",
       "      <th>n</th>\n",
       "      <td>0.022822</td>\n",
       "      <td>0.022840</td>\n",
       "      <td>-0.003912</td>\n",
       "      <td>0.034875</td>\n",
       "      <td>0.036993</td>\n",
       "      <td>-0.002496</td>\n",
       "      <td>-0.013619</td>\n",
       "      <td>-0.037596</td>\n",
       "      <td>0.029687</td>\n",
       "      <td>0.035699</td>\n",
       "      <td>...</td>\n",
       "      <td>0.046956</td>\n",
       "      <td>-0.031854</td>\n",
       "      <td>0.044524</td>\n",
       "      <td>-0.012778</td>\n",
       "      <td>0.027245</td>\n",
       "      <td>-0.008200</td>\n",
       "      <td>-0.007962</td>\n",
       "      <td>0.026210</td>\n",
       "      <td>-0.018419</td>\n",
       "      <td>-0.049042</td>\n",
       "    </tr>\n",
       "  </tbody>\n",
       "</table>\n",
       "<p>5 rows × 100 columns</p>\n",
       "</div>"
      ],
      "text/plain": [
       "         0         1         2         3         4         5         6   \\\n",
       "i  0.021014 -0.029548 -0.019853  0.035607 -0.046591 -0.021184  0.034601   \n",
       "t  0.035466 -0.026246  0.005481  0.021203 -0.019324  0.025819  0.023532   \n",
       "s  0.021251 -0.022198 -0.023825 -0.000849  0.003993 -0.026476  0.047260   \n",
       "r  0.012779  0.006544 -0.029650  0.017467  0.027381 -0.002858 -0.029681   \n",
       "n  0.022822  0.022840 -0.003912  0.034875  0.036993 -0.002496 -0.013619   \n",
       "\n",
       "         7         8         9   ...        90        91        92        93  \\\n",
       "i  0.044587  0.020664 -0.032072  ...  0.049776  0.048546  0.041240 -0.036389   \n",
       "t -0.022167 -0.017751 -0.028721  ...  0.042374  0.049647 -0.022741 -0.028646   \n",
       "s -0.018484  0.022855 -0.041076  ... -0.023941  0.021548 -0.013312  0.027140   \n",
       "r -0.010581 -0.014890  0.046050  ...  0.002921 -0.041814 -0.043920  0.012217   \n",
       "n -0.037596  0.029687  0.035699  ...  0.046956 -0.031854  0.044524 -0.012778   \n",
       "\n",
       "         94        95        96        97        98        99  \n",
       "i -0.040024  0.022411 -0.023450  0.033564 -0.047312  0.009969  \n",
       "t -0.043170  0.020829 -0.000013  0.018079 -0.044271  0.004267  \n",
       "s  0.004451  0.033044 -0.021514  0.004945  0.019152 -0.040694  \n",
       "r  0.019987 -0.004679  0.001593  0.035177  0.046905  0.049222  \n",
       "n  0.027245 -0.008200 -0.007962  0.026210 -0.018419 -0.049042  \n",
       "\n",
       "[5 rows x 100 columns]"
      ]
     },
     "execution_count": 181,
     "metadata": {},
     "output_type": "execute_result"
    }
   ],
   "source": [
    "weights = cbow.get_weights()[0]\n",
    "weights = weights[1:]\n",
    "print(weights.shape)\n",
    "\n",
    "import pandas as pd\n",
    "pd.DataFrame(weights, index=list(id2word.values())[1:]).head()"
   ]
  },
  {
   "cell_type": "code",
   "execution_count": 182,
   "id": "908706fe",
   "metadata": {},
   "outputs": [
    {
     "name": "stdout",
     "output_type": "stream",
     "text": [
      "(36, 36)\n"
     ]
    },
    {
     "ename": "KeyError",
     "evalue": "'influenza'",
     "output_type": "error",
     "traceback": [
      "\u001b[1;31m---------------------------------------------------------------------------\u001b[0m",
      "\u001b[1;31mKeyError\u001b[0m                                  Traceback (most recent call last)",
      "\u001b[1;32m~\\AppData\\Local\\Temp\\ipykernel_8608\\159165039.py\u001b[0m in \u001b[0;36m<module>\u001b[1;34m\u001b[0m\n\u001b[0;32m      6\u001b[0m \u001b[1;33m\u001b[0m\u001b[0m\n\u001b[0;32m      7\u001b[0m \u001b[1;31m# view contextually similar words\u001b[0m\u001b[1;33m\u001b[0m\u001b[1;33m\u001b[0m\u001b[0m\n\u001b[1;32m----> 8\u001b[1;33m similar_words = {search_term: [id2word[idx] for idx in distance_matrix[word2id[search_term]-1].argsort()[1:6]+1] \n\u001b[0m\u001b[0;32m      9\u001b[0m                    for search_term in ['influenza', 'covid']}\n\u001b[0;32m     10\u001b[0m \u001b[1;33m\u001b[0m\u001b[0m\n",
      "\u001b[1;32m~\\AppData\\Local\\Temp\\ipykernel_8608\\159165039.py\u001b[0m in \u001b[0;36m<dictcomp>\u001b[1;34m(.0)\u001b[0m\n\u001b[0;32m      6\u001b[0m \u001b[1;33m\u001b[0m\u001b[0m\n\u001b[0;32m      7\u001b[0m \u001b[1;31m# view contextually similar words\u001b[0m\u001b[1;33m\u001b[0m\u001b[1;33m\u001b[0m\u001b[0m\n\u001b[1;32m----> 8\u001b[1;33m similar_words = {search_term: [id2word[idx] for idx in distance_matrix[word2id[search_term]-1].argsort()[1:6]+1] \n\u001b[0m\u001b[0;32m      9\u001b[0m                    for search_term in ['influenza', 'covid']}\n\u001b[0;32m     10\u001b[0m \u001b[1;33m\u001b[0m\u001b[0m\n",
      "\u001b[1;31mKeyError\u001b[0m: 'influenza'"
     ]
    }
   ],
   "source": [
    "from sklearn.metrics.pairwise import euclidean_distances\n",
    "\n",
    "# compute pairwise distance matrix\n",
    "distance_matrix = euclidean_distances(weights)\n",
    "print(distance_matrix.shape)\n",
    "\n",
    "# view contextually similar words\n",
    "similar_words = {search_term: [id2word[idx] for idx in distance_matrix[word2id[search_term]-1].argsort()[1:6]+1] \n",
    "                   for search_term in ['influenza', 'covid']}\n",
    "\n",
    "similar_words"
   ]
  },
  {
   "cell_type": "code",
   "execution_count": null,
   "id": "096803c1",
   "metadata": {},
   "outputs": [],
   "source": []
  }
 ],
 "metadata": {
  "kernelspec": {
   "display_name": "Python 3 (ipykernel)",
   "language": "python",
   "name": "python3"
  },
  "language_info": {
   "codemirror_mode": {
    "name": "ipython",
    "version": 3
   },
   "file_extension": ".py",
   "mimetype": "text/x-python",
   "name": "python",
   "nbconvert_exporter": "python",
   "pygments_lexer": "ipython3",
   "version": "3.9.13"
  }
 },
 "nbformat": 4,
 "nbformat_minor": 5
}
